{
 "cells": [
  {
   "cell_type": "markdown",
   "id": "16cad130-34fe-4237-bdf2-88bccfc44dbd",
   "metadata": {},
   "source": [
    "\n",
    "\n",
    "\n",
    "\n",
    "\n",
    "\n",
    "\n",
    "\n",
    "\n"
   ]
  },
  {
   "cell_type": "markdown",
   "id": "7deae34d-226d-4bfc-9f9b-9eabf278e8bb",
   "metadata": {},
   "source": [
    "# Classes and Objects\n",
    "\n",
    "## 1.) What are Classes and Objects\n",
    "Python is an object oriented programming language. Unlike procedure oriented programming, where the main emphasis is on functions, object oriented programming stresses on objects.\n",
    "\n",
    "An object is simply a collection of data (variables) and methods (functions) that act on those data. Similarly, a class is a blueprint for that object.\n",
    "\n",
    "We can think of class as a sketch (prototype) of a house. It contains all the details about the floors, doors, windows etc. Based on these descriptions we build the house. House is the object.\n",
    "\n",
    "Just like how homes can be made from a house's blueprint, we can create  objects from a class. An object is also called an instance of a class and the process of creating this object is called instantiation.\n",
    "\n",
    "## 2.) Creating a Class\n",
    "Like function definitions begin with the \"def\" keyword in Python, class definitions begin with a \"class\" keyword."
   ]
  },
  {
   "cell_type": "code",
   "execution_count": 2,
   "id": "e2bcb195-86f5-4e61-816d-3ea10f784e4a",
   "metadata": {},
   "outputs": [
    {
     "name": "stdout",
     "output_type": "stream",
     "text": [
      "10\n",
      "<function Person.greet at 0x7f78dc74c200>\n",
      "This is a person class\n"
     ]
    }
   ],
   "source": [
    "class Person:\n",
    "    \"This is a person class\"\n",
    "    age = 10\n",
    "\n",
    "    def greet(self):\n",
    "        print('Hello')\n",
    "\n",
    "\n",
    "# Output: 10\n",
    "print(Person.age)\n",
    "\n",
    "# Output: <function Person.greet>\n",
    "print(Person.greet)\n",
    "\n",
    "# Output: \"This is a person class\"\n",
    "print(Person.__doc__)"
   ]
  },
  {
   "cell_type": "markdown",
   "id": "50e3dec4-e743-43cf-b1c0-45a2efb8256e",
   "metadata": {},
   "source": [
    "## 3.) Creating an Object\n",
    "We saw that the class object could be used to access different attributes.\n",
    "\n",
    "It can also be used to create new object instances (instantiation) of that class. The procedure to create an object is similar to a function call.\n",
    "\n",
    "In the example below, it will create a new object instance named harry. We can access the attributes of objects using the object name prefix."
   ]
  },
  {
   "cell_type": "code",
   "execution_count": 3,
   "id": "60e99c82-cdc6-4e71-b5d2-abc561e6dabe",
   "metadata": {},
   "outputs": [
    {
     "name": "stdout",
     "output_type": "stream",
     "text": [
      "<function Person.greet at 0x7f78dc74c290>\n",
      "<bound method Person.greet of <__main__.Person object at 0x7f78dc7be990>>\n",
      "Hello\n"
     ]
    }
   ],
   "source": [
    "class Person:\n",
    "    \"This is a person class\"\n",
    "    age = 10\n",
    "\n",
    "    def greet(self):\n",
    "        print('Hello')\n",
    "\n",
    "# create a new object of Person class\n",
    "harry = Person()\n",
    "\n",
    "# Output: <function Person.greet>\n",
    "print(Person.greet)\n",
    "\n",
    "# Output: <bound method Person.greet of <__main__.Person object>>\n",
    "print(harry.greet)\n",
    "\n",
    "# Calling object's greet() method\n",
    "# Output: Hello\n",
    "harry.greet()"
   ]
  },
  {
   "cell_type": "markdown",
   "id": "00dcac6c-7d8e-4e0e-80f2-93addf750751",
   "metadata": {},
   "source": [
    "## 4.) Constructors\n",
    "Class functions that begin with double underscore __ are called special functions as they have special meaning.\n",
    "\n",
    "Of one particular interest is the __init__() function. This special function gets called whenever a new object of that class is instantiated.\n",
    "\n",
    "\n",
    "This type of function is also called **constructors** in Object Oriented Programming (OOP). We normally use it to initialize all the variables.\n",
    "\n",
    "\n",
    "In this example, we create a class named Person, and use the **__init__()** funciton to assign values for name and age:"
   ]
  },
  {
   "cell_type": "code",
   "execution_count": 4,
   "id": "047f12bd-7807-4fda-873d-8b08bb41b638",
   "metadata": {},
   "outputs": [
    {
     "name": "stdout",
     "output_type": "stream",
     "text": [
      "John\n",
      "36\n"
     ]
    }
   ],
   "source": [
    "class Person:\n",
    "  def __init__(self, name, age):\n",
    "    self.name = name\n",
    "    self.age = age\n",
    "\n",
    "p1 = Person(\"John\", 36)\n",
    "\n",
    "print(p1.name)\n",
    "print(p1.age)"
   ]
  },
  {
   "cell_type": "markdown",
   "id": "05966ea1-236f-4300-881c-c2c54812ebea",
   "metadata": {},
   "source": [
    "## 5.) Inheritance\n",
    "Inheritance allows us to define a class that inherits all the methods and properties from another class.\n",
    "* Parent class: is the class being inherited from, also called base class.\n",
    "* Child class: is the class that inherits from another class, also called derived class.\n",
    "\n",
    "Create a Parent Class\n",
    "* Any class can be a parent class, so the syntax is the same as creating any other class"
   ]
  },
  {
   "cell_type": "code",
   "execution_count": 10,
   "id": "44078179-7f18-46fe-ae63-a2aa8fd43820",
   "metadata": {},
   "outputs": [],
   "source": [
    "class Person:\n",
    "  def __init__(self, fname, lname):\n",
    "    self.firstname = fname\n",
    "    self.lastname = lname\n",
    "\n",
    "  def printname(self):\n",
    "    print(self.firstname, self.lastname)"
   ]
  },
  {
   "cell_type": "markdown",
   "id": "def06acd-5b30-4433-a690-25d54eee0409",
   "metadata": {},
   "source": [
    "Create a Child Class\n",
    "* To create a class that inherits the functionality from another class, send the parent class as a parameter when creating the child class"
   ]
  },
  {
   "cell_type": "code",
   "execution_count": 8,
   "id": "9c8d6343-3eef-4543-b5c9-933267e12d9c",
   "metadata": {},
   "outputs": [],
   "source": [
    "class Student(Person):\n",
    "    pass"
   ]
  },
  {
   "cell_type": "markdown",
   "id": "df111c90-76e8-4b92-9e5e-2c66c089c232",
   "metadata": {},
   "source": [
    "* Now the Student class has the same properties and methods as the Person class.\n",
    "* Use the Student class to create an object, and then execute the printname method:"
   ]
  },
  {
   "cell_type": "code",
   "execution_count": 9,
   "id": "af667eff-dd96-4980-973e-2e071c98968f",
   "metadata": {},
   "outputs": [
    {
     "name": "stdout",
     "output_type": "stream",
     "text": [
      "Mike Olsen\n"
     ]
    }
   ],
   "source": [
    "x = Student(\"Mike\", \"Olsen\")\n",
    "x.printname()"
   ]
  },
  {
   "cell_type": "code",
   "execution_count": null,
   "id": "5ed7e1a3-5f4f-4e7f-858e-ab934e3e42b3",
   "metadata": {},
   "outputs": [],
   "source": []
  }
 ],
 "metadata": {
  "kernelspec": {
   "display_name": "Python 3",
   "language": "python",
   "name": "python3"
  },
  "language_info": {
   "codemirror_mode": {
    "name": "ipython",
    "version": 3
   },
   "file_extension": ".py",
   "mimetype": "text/x-python",
   "name": "python",
   "nbconvert_exporter": "python",
   "pygments_lexer": "ipython3",
   "version": "3.7.9"
  }
 },
 "nbformat": 4,
 "nbformat_minor": 5
}
