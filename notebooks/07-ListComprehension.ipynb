{
 "cells": [
  {
   "cell_type": "markdown",
   "id": "361fa0ab-f671-40eb-a8ec-d5376eeaafcc",
   "metadata": {},
   "source": [
    "# List Comprehension\n",
    "\n",
    "## 1.) What is List Comprension?\n",
    "List comprehension is a way to build a new list by applying an expression to each item in an iterable.\n",
    "\n",
    "Without list comprehension you will have to write a for statement with a conditional test inside:"
   ]
  },
  {
   "cell_type": "code",
   "execution_count": 1,
   "id": "8d293f2f-2c9b-41e4-bba6-9693f74879c6",
   "metadata": {},
   "outputs": [
    {
     "name": "stdout",
     "output_type": "stream",
     "text": [
      "['apple', 'banana', 'mango']\n"
     ]
    }
   ],
   "source": [
    "fruits = [\"apple\", \"banana\", \"cherry\", \"kiwi\", \"mango\"]\n",
    "newlist = []\n",
    "\n",
    "for x in fruits:\n",
    "  if \"a\" in x:\n",
    "    newlist.append(x)\n",
    "\n",
    "print(newlist)"
   ]
  },
  {
   "cell_type": "markdown",
   "id": "3c52bac4-9399-4749-b94b-ed091473b7ff",
   "metadata": {},
   "source": [
    "With list comprehension you can do all that with only one line of code:"
   ]
  },
  {
   "cell_type": "code",
   "execution_count": 2,
   "id": "eba92c5c-a414-4bcd-adb4-4d57935e84c9",
   "metadata": {},
   "outputs": [
    {
     "name": "stdout",
     "output_type": "stream",
     "text": [
      "['apple', 'banana', 'mango']\n"
     ]
    }
   ],
   "source": [
    "fruits = [\"apple\", \"banana\", \"cherry\", \"kiwi\", \"mango\"]\n",
    "\n",
    "newlist = [x for x in fruits if \"a\" in x]\n",
    "\n",
    "print(newlist)"
   ]
  },
  {
   "cell_type": "markdown",
   "id": "8a780a1f-146b-416c-8abb-5b408c454a03",
   "metadata": {},
   "source": [
    "## 2.) Basic Syntax\n",
    "```python\n",
    "newlist = [expression for item in iterable if condition == True]\n",
    "```\n",
    "* Expression: the current item in the iteration, but it is also the outcome, which you can manipulate before it ends up like a list item in the new list.\n",
    "* Iterable: can be any iterable object, like a list, tuple, set etc.\n",
    "* Condition: a filter that only accepts the items that valuate to **True**."
   ]
  },
  {
   "cell_type": "markdown",
   "id": "21884f98-cbbd-4402-b97a-63fe9e418855",
   "metadata": {},
   "source": [
    "## 3.) Examples\n",
    "Example #1: Set all values in the new list to 'hello'"
   ]
  },
  {
   "cell_type": "code",
   "execution_count": 13,
   "id": "fe43495f-f505-4ccc-9d44-120aca65b13b",
   "metadata": {},
   "outputs": [
    {
     "name": "stdout",
     "output_type": "stream",
     "text": [
      "['hello', 'hello', 'hello']\n"
     ]
    }
   ],
   "source": [
    "fruits = ['apple', 'banana', 'orange']\n",
    "newlist = ['hello' for x in fruits]\n",
    "print(newlist)"
   ]
  },
  {
   "cell_type": "markdown",
   "id": "26150c29-ed1c-40b1-ad12-80366b0d77e0",
   "metadata": {},
   "source": [
    "Example #2: Set the values in the new list to upper case"
   ]
  },
  {
   "cell_type": "code",
   "execution_count": 7,
   "id": "dc54291d-9433-4fd7-a553-a868dc5e9fe9",
   "metadata": {},
   "outputs": [
    {
     "name": "stdout",
     "output_type": "stream",
     "text": [
      "['APPLE', 'BANANA', 'ORANGE']\n"
     ]
    }
   ],
   "source": [
    "fruits = ['apple', 'banana', 'orange']\n",
    "newlist = [x.upper() for x in fruits]\n",
    "print(newlist)"
   ]
  },
  {
   "cell_type": "markdown",
   "id": "13cca594-6489-4e39-bd33-412f53bf4228",
   "metadata": {},
   "source": [
    "Example #3: applies abs() function to all the elements in a list"
   ]
  },
  {
   "cell_type": "code",
   "execution_count": 12,
   "id": "8b5cf510-e000-403f-af1b-ad0a8c09e1e0",
   "metadata": {},
   "outputs": [
    {
     "name": "stdout",
     "output_type": "stream",
     "text": [
      "[4, 2, 0, 2, 4]\n"
     ]
    }
   ],
   "source": [
    "firstlist = [-4, -2, 0, 2, 4]\n",
    "newlist = [abs(x) for x in firstlist]\n",
    "print(newlist)"
   ]
  },
  {
   "cell_type": "markdown",
   "id": "0f867655-a217-46e9-bff3-64bac5f5f229",
   "metadata": {},
   "source": [
    "Example #4: calls a built-in method strip() to remove whitespaces on each element in a list."
   ]
  },
  {
   "cell_type": "code",
   "execution_count": 11,
   "id": "e53f8c90-0696-473e-bab2-a2a76de5deff",
   "metadata": {},
   "outputs": [
    {
     "name": "stdout",
     "output_type": "stream",
     "text": [
      "['red', 'green', 'blue']\n"
     ]
    }
   ],
   "source": [
    "colors = ['  red', '  green ', 'blue  ']\n",
    "newlist = [color.strip() for color in colors]\n",
    "print(newlist)"
   ]
  },
  {
   "cell_type": "code",
   "execution_count": null,
   "id": "9cd5b2b2-fd9c-41bc-ac0b-c1df1595d080",
   "metadata": {},
   "outputs": [],
   "source": []
  }
 ],
 "metadata": {
  "kernelspec": {
   "display_name": "Python 3",
   "language": "python",
   "name": "python3"
  },
  "language_info": {
   "codemirror_mode": {
    "name": "ipython",
    "version": 3
   },
   "file_extension": ".py",
   "mimetype": "text/x-python",
   "name": "python",
   "nbconvert_exporter": "python",
   "pygments_lexer": "ipython3",
   "version": "3.7.9"
  }
 },
 "nbformat": 4,
 "nbformat_minor": 5
}
