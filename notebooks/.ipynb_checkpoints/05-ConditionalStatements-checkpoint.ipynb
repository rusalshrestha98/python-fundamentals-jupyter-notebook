{
 "cells": [
  {
   "cell_type": "code",
   "execution_count": null,
   "id": "44e8be06-92c4-4c23-ba2e-e1a8efc6b131",
   "metadata": {},
   "outputs": [],
   "source": []
  },
  {
   "cell_type": "markdown",
   "id": "c38097ef-8571-44dd-befc-203f781339df",
   "metadata": {},
   "source": [
    "# Conditional Statements\n",
    "\n",
    "## 1.) If Statements\n",
    "An \"if statement\" is written by using the `if` keyword. The body of if is executed only if this evaluates to True."
   ]
  },
  {
   "cell_type": "code",
   "execution_count": 5,
   "id": "a97b5a1c-1547-40bf-a584-2e70df25eafe",
   "metadata": {},
   "outputs": [
    {
     "name": "stdout",
     "output_type": "stream",
     "text": [
      "You are an adult.\n"
     ]
    }
   ],
   "source": [
    "my_age = 18\n",
    "\n",
    "if my_age >= 18 :\n",
    "    print(\"You are an adult.\")"
   ]
  },
  {
   "cell_type": "markdown",
   "id": "a012ed56-598e-4ed6-8ab7-b4a4235587b7",
   "metadata": {},
   "source": [
    "## 2.) If/Else Statements\n",
    "The `if..else` statement evaluates test expression and will execute the body of if only when the test condition is True.\n",
    "\n",
    "If the condition is False, the body of else is executed. Indentation is used to separate the blocks."
   ]
  },
  {
   "cell_type": "code",
   "execution_count": 4,
   "id": "1f55488c-dc12-4ce0-8dbe-fc6ddcc16c6e",
   "metadata": {},
   "outputs": [
    {
     "name": "stdout",
     "output_type": "stream",
     "text": [
      "You are correct\n"
     ]
    }
   ],
   "source": [
    "H2o_is_water = True\n",
    "\n",
    "if H2o_is_water == False:\n",
    "    print(\"Wrong Answer\")\n",
    "else:\n",
    "    print(\"You are correct\")"
   ]
  },
  {
   "cell_type": "markdown",
   "id": "8e4173db-bf77-444b-be0b-8d86ede22275",
   "metadata": {},
   "source": [
    "## 3.) If/Else/Elif Statements\n",
    "The `elif` keyword is pythons way of saying \"if the previous conditions were not true, then try this condition\"."
   ]
  },
  {
   "cell_type": "code",
   "execution_count": 2,
   "id": "b6a03d0e-22aa-4392-95fd-a3d0d4a80b75",
   "metadata": {},
   "outputs": [
    {
     "name": "stdout",
     "output_type": "stream",
     "text": [
      "Who are you?\n"
     ]
    }
   ],
   "source": [
    "first_name = \"Mike\"\n",
    "\n",
    "if first_name == \"John\":\n",
    "    print(\"Yes,my first name is John\")\n",
    "elif first_name == \"Doe\":\n",
    "    print(\"Yes, my first name is Doe\")\n",
    "else:\n",
    "    print(\"Who are you?\")"
   ]
  }
 ],
 "metadata": {
  "kernelspec": {
   "display_name": "Python 3",
   "language": "python",
   "name": "python3"
  },
  "language_info": {
   "codemirror_mode": {
    "name": "ipython",
    "version": 3
   },
   "file_extension": ".py",
   "mimetype": "text/x-python",
   "name": "python",
   "nbconvert_exporter": "python",
   "pygments_lexer": "ipython3",
   "version": "3.7.9"
  }
 },
 "nbformat": 4,
 "nbformat_minor": 5
}
