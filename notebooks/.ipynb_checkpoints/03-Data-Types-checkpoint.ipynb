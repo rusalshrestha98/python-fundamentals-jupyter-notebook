{
 "cells": [
  {
   "cell_type": "markdown",
   "id": "0016733e-162f-4034-ab36-0901c15aa5f8",
   "metadata": {},
   "source": [
    "# Data Types\n",
    "\n",
    "## 1.) Strings\n",
    "String is wrapped in either single quotaion marks or double quotation marks.\n",
    "\n",
    "For example: \n",
    "``` Python\n",
    "str_a = 'Hello single quotes'\n",
    "str_b = \"Hello double quotes\"\n",
    "```\n",
    "You can assign string to a variable:"
   ]
  },
  {
   "cell_type": "code",
   "execution_count": 1,
   "id": "34a2dfa2-0b82-4d55-9327-a025c5369aaa",
   "metadata": {},
   "outputs": [
    {
     "name": "stdout",
     "output_type": "stream",
     "text": [
      "Hello World\n"
     ]
    }
   ],
   "source": [
    "x = \"Hello World\"\n",
    "print (x)"
   ]
  },
  {
   "cell_type": "markdown",
   "id": "466c773d-69eb-4cf2-afda-e6818b32ca45",
   "metadata": {},
   "source": [
    "### **MultiLine String**\n",
    "\n",
    "You can assign multiline string to a variable by using three quotation marks. (Again, both single quotation marks and double quotation mark work as long as the opening quotarion mark is the same as the ending quotation mark)\n",
    "\n",
    "For example:"
   ]
  },
  {
   "cell_type": "code",
   "execution_count": 2,
   "id": "8c162b2d-8a5b-4e45-bb2d-9838880545ae",
   "metadata": {},
   "outputs": [
    {
     "name": "stdout",
     "output_type": "stream",
     "text": [
      "Lorem ipsum dolor sit amet,\n",
      "consectetur adipiscing elit,\n",
      "sed do eiusmod tempor incididunt\n",
      "ut labore et dolore magna aliqua.\n"
     ]
    }
   ],
   "source": [
    "x = \"\"\"Lorem ipsum dolor sit amet,\n",
    "consectetur adipiscing elit,\n",
    "sed do eiusmod tempor incididunt\n",
    "ut labore et dolore magna aliqua.\"\"\"\n",
    "print (x)"
   ]
  },
  {
   "cell_type": "markdown",
   "id": "fc8e2028-9baf-4c45-9ed4-09fa64184788",
   "metadata": {},
   "source": [
    "### Loop through a String\n",
    "\n",
    "If you want to loop through a String, we will use a **for** loop (which we will cover in Chapter 6)  \n",
    "\n",
    "Example:\n"
   ]
  },
  {
   "cell_type": "code",
   "execution_count": 3,
   "id": "948ed4d8-ce16-4ee1-9ca4-8ec4084abeb0",
   "metadata": {},
   "outputs": [
    {
     "name": "stdout",
     "output_type": "stream",
     "text": [
      "a\n",
      "p\n",
      "p\n",
      "l\n",
      "e\n"
     ]
    }
   ],
   "source": [
    "for x in \"apple\":\n",
    "    print (x)"
   ]
  },
  {
   "cell_type": "markdown",
   "id": "faaea103-d769-4d4a-b174-dcdfc07fe3ae",
   "metadata": {},
   "source": [
    "### String Concatenation\n",
    "\n",
    "To combin two Strings, you can use `+` operator.\n",
    "\n",
    "Example:\n"
   ]
  },
  {
   "cell_type": "code",
   "execution_count": 3,
   "id": "39d7d02d-a242-42b9-86f5-559c9d7c5931",
   "metadata": {},
   "outputs": [
    {
     "name": "stdout",
     "output_type": "stream",
     "text": [
      "Good Morning!\n"
     ]
    }
   ],
   "source": [
    "a = \"Good \"\n",
    "b = \"Morning\"\n",
    "c = \"!\"\n",
    "d = a + b + c\n",
    "print (d)"
   ]
  },
  {
   "cell_type": "markdown",
   "id": "58d1f109-9b46-4352-9476-1c91fe5544d0",
   "metadata": {},
   "source": [
    "### String Methods\n",
    "\n",
    "1- `capitalize()`: Convert the 1st character to upper case. \n",
    "\n",
    "Example:"
   ]
  },
  {
   "cell_type": "code",
   "execution_count": 1,
   "id": "a40be270-88f5-4a08-85e1-473ebae2cf99",
   "metadata": {},
   "outputs": [
    {
     "name": "stdout",
     "output_type": "stream",
     "text": [
      "Good night!\n"
     ]
    }
   ],
   "source": [
    "text = \"good night!\"\n",
    "capitalizedText = text.capitalize()\n",
    "print (capitalizedText)"
   ]
  },
  {
   "cell_type": "markdown",
   "id": "164013ce-5936-442a-9ea7-da6e71093ca7",
   "metadata": {},
   "source": [
    "2- `find()`: Search the string for a specified value and returns the position of where it was found. \n",
    "\n",
    "Example:"
   ]
  },
  {
   "cell_type": "code",
   "execution_count": 2,
   "id": "3cc66cab-25a9-456b-bbd1-31f4b11ed7a6",
   "metadata": {},
   "outputs": [
    {
     "name": "stdout",
     "output_type": "stream",
     "text": [
      "4\n"
     ]
    }
   ],
   "source": [
    "text = \"You are beautiful.\"\n",
    "x = text.find(\"are\")\n",
    "print (x)"
   ]
  },
  {
   "cell_type": "markdown",
   "id": "7f2d7fb7-0e47-4881-84f6-f0553ec40cbe",
   "metadata": {},
   "source": [
    "3- `lower()`: Converts a string into lower case. \n",
    "\n",
    "Example:"
   ]
  },
  {
   "cell_type": "code",
   "execution_count": 6,
   "id": "da6906c1-8ae9-4cc2-b1e3-e21dbba0fe76",
   "metadata": {},
   "outputs": [
    {
     "name": "stdout",
     "output_type": "stream",
     "text": [
      "hello my friends\n"
     ]
    }
   ],
   "source": [
    "text = \"Hello my FRIENDS\"\n",
    "x = text.lower()\n",
    "print (x)"
   ]
  },
  {
   "cell_type": "markdown",
   "id": "0c292a29-f11b-4ee3-b91c-5ddd7a20f41d",
   "metadata": {},
   "source": [
    "4- `replace()`: Returns a string where a specified value is replaced with a specified value. \n",
    "\n",
    "Example:"
   ]
  },
  {
   "cell_type": "code",
   "execution_count": 5,
   "id": "1cb0da55-2510-436f-a569-95e680d0a3ce",
   "metadata": {},
   "outputs": [
    {
     "name": "stdout",
     "output_type": "stream",
     "text": [
      "Good morning!\n"
     ]
    }
   ],
   "source": [
    "text = \"Good afternoon!\"\n",
    "x = text.replace(\"afternoon\", \"morning\")\n",
    "print (x)"
   ]
  },
  {
   "cell_type": "markdown",
   "id": "78d4c85e-6003-4812-a928-19d845d5792f",
   "metadata": {},
   "source": [
    "5- `swapcase()`: Swaps cases, lower case becomes upper case and vice versa. \n",
    "    \n",
    "Example:"
   ]
  },
  {
   "cell_type": "code",
   "execution_count": 8,
   "id": "4f1d5a1d-b817-4de5-a550-e4b25b3dcd02",
   "metadata": {},
   "outputs": [
    {
     "name": "stdout",
     "output_type": "stream",
     "text": [
      "hAVE A gOOD dAy\n"
     ]
    }
   ],
   "source": [
    "text = \"Have a Good DaY\"\n",
    "x = text.swapcase()\n",
    "print (x)"
   ]
  },
  {
   "cell_type": "markdown",
   "id": "79f4a633-4aaf-4664-8c4f-99aff707f3bf",
   "metadata": {},
   "source": [
    "## 2.) Integers\n",
    "Short form: Int\n",
    "\n",
    "Integer is a whole number, positive or negative, without decimals, of unlimited length\n",
    "\n",
    "Example of Integers:"
   ]
  },
  {
   "cell_type": "code",
   "execution_count": 10,
   "id": "fe14eb28-94f9-4f23-926b-90660354c781",
   "metadata": {},
   "outputs": [],
   "source": [
    "x = 10\n",
    "y = -53\n",
    "z = 154638294742\n",
    "a = -477639928888398"
   ]
  },
  {
   "cell_type": "markdown",
   "id": "cb06f43a-c5eb-43a5-aefd-aa3038dde7d1",
   "metadata": {},
   "source": [
    "## 3.) Float\n",
    "Float is a floating point number, is a number, positive or negative, containing one or more decimals.\n",
    "\n",
    "Example of Float:"
   ]
  },
  {
   "cell_type": "code",
   "execution_count": 11,
   "id": "85f7a9c6-e005-41a6-a0a1-90122dbbd77f",
   "metadata": {},
   "outputs": [],
   "source": [
    "x = 1.50\n",
    "y = -3.5\n",
    "z = 10.0\n",
    "a = -49.0"
   ]
  },
  {
   "cell_type": "markdown",
   "id": "222b1f05-f91e-49f3-ad10-57a9075ca0e3",
   "metadata": {},
   "source": [
    "## 4.) Boolean\n",
    "Booleans represent one of two values: True or False.\n",
    "    \n",
    "Example:"
   ]
  },
  {
   "cell_type": "code",
   "execution_count": 13,
   "id": "46c20a0a-f507-4295-8652-2401dab3c27d",
   "metadata": {},
   "outputs": [
    {
     "name": "stdout",
     "output_type": "stream",
     "text": [
      "True\n",
      "True\n",
      "False\n"
     ]
    }
   ],
   "source": [
    "print (10 > 1)\n",
    "print (2 == 2)\n",
    "print (5 < 3)"
   ]
  },
  {
   "cell_type": "markdown",
   "id": "adf16a98-1f1f-4662-ae03-7ee6f17bf3c6",
   "metadata": {},
   "source": [
    "## 5.) Lists\n",
    "Lists are used to store multiple items in a single variable.\n",
    "\n",
    "A list uses brucket. `[ ]`\n",
    "\n",
    "Lists are mutable.\n",
    "\n",
    "Lists allow duplicates\n",
    "\n",
    "List items can be of any data type.\n",
    "\n",
    "A list can contain different data type.\n",
    "\n",
    "Example of a list:"
   ]
  },
  {
   "cell_type": "code",
   "execution_count": 17,
   "id": "84b645da-fb67-4c2c-ad3f-fbefafdad422",
   "metadata": {},
   "outputs": [],
   "source": [
    "exampleList = [\"apple\", \"orange\", \"banana\", \"lemon\", \"orange\", 1, -0.6, False]"
   ]
  },
  {
   "cell_type": "markdown",
   "id": "192a07d9-7a84-4086-9065-1e0de7988c81",
   "metadata": {},
   "source": [
    "### List length\n",
    "For knowing the length of a list, use `len()`\n",
    "\n",
    "Example:"
   ]
  },
  {
   "cell_type": "code",
   "execution_count": 16,
   "id": "c710d776-e012-47b0-97b0-4c80c0571bb8",
   "metadata": {},
   "outputs": [
    {
     "name": "stdout",
     "output_type": "stream",
     "text": [
      "5\n"
     ]
    }
   ],
   "source": [
    "exampleList = [\"apple\", \"orange\", \"banana\", \"lemon\", \"orange\"]\n",
    "print (len(exampleList))"
   ]
  },
  {
   "cell_type": "markdown",
   "id": "9051f853-d8e4-4e89-9396-2fdd752dad6a",
   "metadata": {},
   "source": [
    "## 6.) Tuples\n",
    "Tuples are written with round brackets ( )\n",
    "\n",
    "A tuple is unchangeable.\n",
    "\n",
    "Tuples allow duplicates.\n",
    "\n",
    "Tuple items can be of any data type.\n",
    "\n",
    "Tuples can contain different data type.\n",
    "\n",
    "Example of a tuple:"
   ]
  },
  {
   "cell_type": "code",
   "execution_count": 18,
   "id": "aeccc101-ce55-460d-9335-da0b93c98dbe",
   "metadata": {},
   "outputs": [],
   "source": [
    "exampleTuple = (\"male\", \"female\", \"boy\", \"girl\", \"boy\")"
   ]
  },
  {
   "cell_type": "markdown",
   "id": "6b62eb77-d4cb-4cdb-ad65-f7bf13e52ff6",
   "metadata": {},
   "source": [
    "## 7.) Dictionary\n",
    "Dictionaries are used to store data values in key:value pairs.\n",
    "\n",
    "A dictionary is a collection which is ordered*, changeable and does not allow duplicates.\n",
    "\n",
    "Dictionaries are written with curly brackets, and have keys and values. { }"
   ]
  },
  {
   "cell_type": "code",
   "execution_count": 19,
   "id": "ddc709e9-ff99-4a26-bf51-e48231b5331f",
   "metadata": {},
   "outputs": [],
   "source": [
    "exampleDict = {\"brand\": \"Tesla\", \"year\": 2019, \"color\": \"white\"}"
   ]
  },
  {
   "cell_type": "code",
   "execution_count": null,
   "id": "8c45fd55-3f02-44b5-b16b-118965ef35d7",
   "metadata": {},
   "outputs": [],
   "source": []
  }
 ],
 "metadata": {
  "kernelspec": {
   "display_name": "Python 3",
   "language": "python",
   "name": "python3"
  },
  "language_info": {
   "codemirror_mode": {
    "name": "ipython",
    "version": 3
   },
   "file_extension": ".py",
   "mimetype": "text/x-python",
   "name": "python",
   "nbconvert_exporter": "python",
   "pygments_lexer": "ipython3",
   "version": "3.7.9"
  }
 },
 "nbformat": 4,
 "nbformat_minor": 5
}
