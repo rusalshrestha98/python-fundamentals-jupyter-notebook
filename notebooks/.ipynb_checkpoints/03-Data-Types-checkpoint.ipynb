{
 "cells": [
  {
   "cell_type": "markdown",
   "id": "a18eb2c6-87dc-4dbb-9342-d4880b83971f",
   "metadata": {},
   "source": [
    "\n",
    "\n",
    "### **_String Concatenation_**\n",
    "#### To combin two Strings, you can use **+** operator.\n",
    "##### Example:\n",
    "```Python\n",
    "a = \"Good \"\n",
    "b = \"Morning\"\n",
    "c = \"!\"\n",
    "d = a + b + c\n",
    "print (d)\n",
    "```\n",
    "##### Result:\n",
    "```Python\n",
    "Good Morning!\n",
    "```\n",
    "\n",
    "## **_String Method_**\n",
    "\n",
    "### 1- capitalize( ): Convert the 1st character to upper case. \n",
    "##### Example:\n",
    "```Python\n",
    "text = \"good night!\"\n",
    "capitalizedText = text.capitalize()\n",
    "print (capitalizedText)\n",
    "```\n",
    "##### Result:\n",
    "```Python \n",
    "Good night!\n",
    "```\n",
    "\n",
    "### 2- find( ): Search the string for a specified value and returns the position of where it was found. \n",
    "##### Example:\n",
    "```Python\n",
    "text = \"You are beautiful.\"\n",
    "x = text.find(\"are\")\n",
    "print (x)\n",
    "```\n",
    "##### Result:\n",
    "```Python \n",
    "4\n",
    "```\n",
    "\n",
    "### 3- lower( ): Converts a string into lower case. \n",
    "##### Example:\n",
    "```Python\n",
    "text = \"Hello my FRIENDS\"\n",
    "x = text.lower()\n",
    "print (x)\n",
    "```\n",
    "##### Result:\n",
    "```Python \n",
    "hello my friends\n",
    "```\n",
    "\n",
    "### 4- replace( ): Returns a string where a specified value is replaced with a specified value. \n",
    "##### Example:\n",
    "```Python\n",
    "text = \"Good afternoon!\"\n",
    "x = text.replace(\"afternoon\", \"morning\")\n",
    "print (x)\n",
    "```\n",
    "##### Result:\n",
    "```Python \n",
    "Good morning!\n",
    "```\n",
    "\n",
    "### 5- swapcase( ): Swaps cases, lower case becomes upper case and vice versa. \n",
    "##### Example:\n",
    "```Python\n",
    "text = \"Have a Good DaY\"\n",
    "x = text.swapcase()\n",
    "print (x)\n",
    "```\n",
    "##### Result:\n",
    "```Python \n",
    "hAVE A gOOD dAy\n",
    "```\n",
    "\n",
    "## 2.) Integers\n",
    "#### Short form: Int\n",
    "#### Integer is a whole number, positive or negative, without decimals, of unlimited length\n",
    "##### Example of Integers:\n",
    "```Python\n",
    "x = 10\n",
    "y = -53\n",
    "z = 154638294742\n",
    "a = -477639928888398\n",
    "```\n",
    "\n",
    "## 3.) Float\n",
    "#### Float is a floating point number, is a number, positive or negative, containing one or more decimals.\n",
    "##### Example of Float:\n",
    "```Python\n",
    "x = 1.50\n",
    "y = -3.5\n",
    "z = 10.0\n",
    "a = -49.0\n",
    "```\n",
    "\n",
    "## 4.) Boolean\n",
    "#### Booleans represent one of two values: True or False.\n",
    "##### Example:\n",
    "```Python\n",
    "print (10 > 1)\n",
    "print (2 == 2)\n",
    "print (5 < 3)\n",
    "```\n",
    "##### Result:\n",
    "```Python\n",
    "True\n",
    "True\n",
    "False\n",
    "```\n",
    "\n",
    "## 5.) Lists\n",
    "#### Lists are used to store multiple items in a single variable.\n",
    "#### A list uses brucket. [ ]\n",
    "#### Lists are mutable.\n",
    "#### Lists allow duplicates\n",
    "#### List items can be of any data type.\n",
    "#### A list can contain different data type.\n",
    "##### Example of a list:\n",
    "```Python\n",
    "exampleList = [\"apple\", \"orange\", \"banana\", \"lemon\", \"orange\", 1, -0.6, False]\n",
    "```\n",
    "### **_List length_**\n",
    "#### For knowing the length of a list, use **len()**\n",
    "##### Example:\n",
    "```Python\n",
    "exampleList = [\"apple\", \"orange\", \"banana\", \"lemon\", \"orange\"]\n",
    "print (len(exampleList))\n",
    "```\n",
    "##### Result\n",
    "```Python\n",
    "5\n",
    "```\n",
    "\n",
    "## 6.) Tuples\n",
    "#### Tuples are written with round brackets ( )\n",
    "#### A tuple is unchangeable.\n",
    "#### Tuples allow duplicates\n",
    "#### Tuple items can be of any data type.\n",
    "#### Tuples can contain different data type.\n",
    "##### Example of a tuple:\n",
    "```Python\n",
    "exampleTuple = (\"male\", \"female\", \"boy\", \"girl\", \"boy\")\n",
    "```\n",
    "\n",
    "## 7.) Dictionary\n",
    "#### Dictionaries are used to store data values in key:value pairs.\n",
    "#### A dictionary is a collection which is ordered*, changeable and does not allow duplicates.\n",
    "#### Dictionaries are written with curly brackets, and have keys and values. { }\n",
    "```Python\n",
    "exampleDict = {\"brand\": \"Tesla\", \"year\": 2019, \"color\": \"white\"}\n",
    "```"
   ]
  },
  {
   "cell_type": "markdown",
   "id": "0016733e-162f-4034-ab36-0901c15aa5f8",
   "metadata": {},
   "source": [
    "# Data Types\n",
    "\n",
    "## 1.) Strings\n",
    "String is wrapped in either single quotaion marks or double quotation marks.\n",
    "\n",
    "For example: \n",
    "``` Python\n",
    "str_a = 'Hello single quotes'\n",
    "str_b = \"Hello double quotes\"\n",
    "```\n",
    "You can assign string to a variable:"
   ]
  },
  {
   "cell_type": "code",
   "execution_count": 1,
   "id": "34a2dfa2-0b82-4d55-9327-a025c5369aaa",
   "metadata": {},
   "outputs": [
    {
     "name": "stdout",
     "output_type": "stream",
     "text": [
      "Hello World\n"
     ]
    }
   ],
   "source": [
    "x = \"Hello World\"\n",
    "print (x)"
   ]
  },
  {
   "cell_type": "markdown",
   "id": "466c773d-69eb-4cf2-afda-e6818b32ca45",
   "metadata": {},
   "source": [
    "### **MultiLine String**\n",
    "\n",
    "You can assign multiline string to a variable by using three quotation marks. (Again, both single quotation marks and double quotation mark work as long as the opening quotarion mark is the same as the ending quotation mark)\n",
    "\n",
    "For example:"
   ]
  },
  {
   "cell_type": "code",
   "execution_count": 2,
   "id": "8c162b2d-8a5b-4e45-bb2d-9838880545ae",
   "metadata": {},
   "outputs": [
    {
     "name": "stdout",
     "output_type": "stream",
     "text": [
      "Lorem ipsum dolor sit amet,\n",
      "consectetur adipiscing elit,\n",
      "sed do eiusmod tempor incididunt\n",
      "ut labore et dolore magna aliqua.\n"
     ]
    }
   ],
   "source": [
    "x = \"\"\"Lorem ipsum dolor sit amet,\n",
    "consectetur adipiscing elit,\n",
    "sed do eiusmod tempor incididunt\n",
    "ut labore et dolore magna aliqua.\"\"\"\n",
    "print (x)"
   ]
  },
  {
   "cell_type": "markdown",
   "id": "fc8e2028-9baf-4c45-9ed4-09fa64184788",
   "metadata": {},
   "source": [
    "### Loop through a String\n",
    "\n",
    "If you want to loop through a String, we will use a **for** loop (which we will cover in Chapter 6)  \n",
    "\n",
    "Example:\n"
   ]
  },
  {
   "cell_type": "code",
   "execution_count": 3,
   "id": "948ed4d8-ce16-4ee1-9ca4-8ec4084abeb0",
   "metadata": {},
   "outputs": [
    {
     "name": "stdout",
     "output_type": "stream",
     "text": [
      "a\n",
      "p\n",
      "p\n",
      "l\n",
      "e\n"
     ]
    }
   ],
   "source": [
    "for x in \"apple\":\n",
    "    print (x)"
   ]
  },
  {
   "cell_type": "markdown",
   "id": "faaea103-d769-4d4a-b174-dcdfc07fe3ae",
   "metadata": {},
   "source": [
    "### String Concatenation\n",
    "\n",
    "To combin two Strings, you can use `+` operator.\n",
    "\n",
    "Example:\n"
   ]
  },
  {
   "cell_type": "code",
   "execution_count": 4,
   "id": "39d7d02d-a242-42b9-86f5-559c9d7c5931",
   "metadata": {},
   "outputs": [
    {
     "name": "stdout",
     "output_type": "stream",
     "text": [
      "Good Morning!\n"
     ]
    }
   ],
   "source": [
    "a = \"Good \"\n",
    "b = \"Morning\"\n",
    "c = \"!\"\n",
    "d = a + b + c\n",
    "print (d)"
   ]
  },
  {
   "cell_type": "code",
   "execution_count": null,
   "id": "6b56768d-bcb2-4a2a-bf9f-c83728a9c014",
   "metadata": {},
   "outputs": [],
   "source": []
  }
 ],
 "metadata": {
  "kernelspec": {
   "display_name": "Python 3",
   "language": "python",
   "name": "python3"
  },
  "language_info": {
   "codemirror_mode": {
    "name": "ipython",
    "version": 3
   },
   "file_extension": ".py",
   "mimetype": "text/x-python",
   "name": "python",
   "nbconvert_exporter": "python",
   "pygments_lexer": "ipython3",
   "version": "3.7.9"
  }
 },
 "nbformat": 4,
 "nbformat_minor": 5
}
