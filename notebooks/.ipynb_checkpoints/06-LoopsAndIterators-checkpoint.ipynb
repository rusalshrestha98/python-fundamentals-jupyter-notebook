{
 "cells": [
  {
   "cell_type": "markdown",
   "id": "360f4bf5-5650-4c85-8175-6e659a04f3f0",
   "metadata": {},
   "source": [
    "# Looping and Iterators\n",
    "\n",
    "## 1.) While Loops\n",
    "With the while loop we can execute a set of statements as long as a condition is true."
   ]
  },
  {
   "cell_type": "code",
   "execution_count": 2,
   "id": "f4e03cda-b9c1-4253-ad58-5fb572b424f9",
   "metadata": {},
   "outputs": [
    {
     "name": "stdout",
     "output_type": "stream",
     "text": [
      "Hello World!\n",
      "Hello World!\n",
      "Hello World!\n",
      "Hello World!\n",
      "Hello World!\n",
      "Hello World!\n",
      "Hello World!\n",
      "Hello World!\n",
      "Hello World!\n",
      "Hello World!\n"
     ]
    }
   ],
   "source": [
    "counter = 0\n",
    "\n",
    "while counter < 10:\n",
    "    print(\"Hello World!\")\n",
    "    counter = counter + 1"
   ]
  },
  {
   "cell_type": "markdown",
   "id": "538d5d13-55d5-46bd-b292-f127681ee5c2",
   "metadata": {},
   "source": [
    "## 2.) For Loops\n",
    "A for loop is used for iterating over a sequence (that is either a list, a tuple, a dictionary, a set, or a string).\n",
    "\n",
    "This is less like the for keyword in other programming languages, and works more like an iterator method as found in other object-orientated programming languages.\n",
    "\n",
    "With the for loop we can execute a set of statements, once for each item in a list, tuple, set etc."
   ]
  },
  {
   "cell_type": "code",
   "execution_count": 1,
   "id": "ddf164bf-5e9f-49e8-913d-09ab0a47aba1",
   "metadata": {},
   "outputs": [
    {
     "name": "stdout",
     "output_type": "stream",
     "text": [
      "Scarf\n",
      "Socks\n",
      "Shoes\n",
      "Belt\n"
     ]
    }
   ],
   "source": [
    "list_of_accessories = ['Scarf', 'Socks', 'Shoes', 'Belt']\n",
    "\n",
    "for clothes in list_of_accessories:\n",
    "     print(clothes)"
   ]
  }
 ],
 "metadata": {
  "kernelspec": {
   "display_name": "Python 3",
   "language": "python",
   "name": "python3"
  },
  "language_info": {
   "codemirror_mode": {
    "name": "ipython",
    "version": 3
   },
   "file_extension": ".py",
   "mimetype": "text/x-python",
   "name": "python",
   "nbconvert_exporter": "python",
   "pygments_lexer": "ipython3",
   "version": "3.7.9"
  }
 },
 "nbformat": 4,
 "nbformat_minor": 5
}
