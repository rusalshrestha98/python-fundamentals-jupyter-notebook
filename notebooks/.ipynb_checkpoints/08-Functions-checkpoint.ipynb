{
 "cells": [
  {
   "cell_type": "markdown",
   "id": "729a20e0-ed82-45a8-abd6-9ad20b5d3011",
   "metadata": {},
   "source": [
    "# Functions\n",
    "\n",
    "## 1.) What is a Function\n",
    "A function is a block of code which only runs when it is called.\n",
    "\n",
    "You can pass data, known as parameters, into a function.\n",
    "\n",
    "A function can return data as a result.\n",
    "\n",
    "Functions help break our program into smaller and modular chunks. As our program grows larger and larger, functions make it more organized and manageable.\n",
    "\n",
    "Furthermore, it avoids repetition and makes the code reusable.\n",
    "\n",
    "## 2.) Types of Functions\n",
    "In most programming languages including python, you can divide functions into the following two types:\n",
    "\n",
    "* Built-in functions - Functions that are built into Python.\n",
    "* User-defined functions - Functions defined by the users themselves.\n",
    "\n",
    "## 3.) Creating a Function\n",
    "Syntax of a function:\n",
    "```python\n",
    "def function_name(parameters):\n",
    "\t\"\"\"docstring\"\"\"\n",
    "\tstatement(s)\n",
    "```\n",
    "Above shown is a function definition that consists of the following components.\n",
    "* Keyword \"def\" that marks the start of the function header.\n",
    "* A function name to uniquely identify the function. Function naming follows the same rules of writing identifiers in Python.\n",
    "* Parameters (arguments) through which we pass values to a function. They are optional.\n",
    "* A colon (:) to mark the end of the function header.\n",
    "* Optional documentation string (docstring) to describe what the function does.\n",
    "* One or more valid python statements that make up the function body. Statements must have the same indentation level (usually 4 spaces).\n",
    "* An optional return statement to return a value from the function.\n",
    "\n",
    "## 4.) Calling a Function\n",
    "To call a function, use the function name followed by parenthesis:"
   ]
  },
  {
   "cell_type": "code",
   "execution_count": 5,
   "id": "6d779300-c34c-4af6-a2ec-9ade57a5240d",
   "metadata": {},
   "outputs": [
    {
     "name": "stdout",
     "output_type": "stream",
     "text": [
      "Hello from a function\n"
     ]
    }
   ],
   "source": [
    "def my_function():\n",
    "  print(\"Hello from a function\")\n",
    "my_function()"
   ]
  },
  {
   "cell_type": "markdown",
   "id": "878a240c-1192-4434-b890-7148f750c82a",
   "metadata": {},
   "source": [
    "## 5.) Parameters and Arguments\n",
    "The terms parameter and argument can be used for the same thing: information that are passed into a function.\n",
    "\n",
    "From a function's perspective:\n",
    "* A parameter is the variable listed inside the parentheses in the function definition.\n",
    "* An argument is the value that is sent to the function when it is called.\n",
    "\n",
    "Arguments are specified after the function name, inside the parentheses. You can add as many arguments as you want, just separate them with a comma.\n",
    "\n",
    "The following example has a function with one argument (fname). When the function is called, we pass along a first name, which is used inside the function to print the full name:"
   ]
  },
  {
   "cell_type": "code",
   "execution_count": 6,
   "id": "7c6aa5dd-3609-4d1a-ba84-b0748ad22cd2",
   "metadata": {},
   "outputs": [
    {
     "name": "stdout",
     "output_type": "stream",
     "text": [
      "Emil Refsnes\n",
      "Tobias Refsnes\n",
      "Linus Refsnes\n"
     ]
    }
   ],
   "source": [
    "def my_function(fname):\n",
    "  print(fname + \" Refsnes\")\n",
    "\n",
    "my_function(\"Emil\")\n",
    "my_function(\"Tobias\")\n",
    "my_function(\"Linus\")"
   ]
  },
  {
   "cell_type": "markdown",
   "id": "8216bda7-485c-4410-a40c-f1ef15b013ba",
   "metadata": {},
   "source": [
    "## 6.) Keyword Arguments\n",
    "You can also send arguments with the key = value syntax.\n",
    "\n",
    "This way the order of the arguments does not matter."
   ]
  },
  {
   "cell_type": "code",
   "execution_count": 7,
   "id": "fc3c6066-5933-40bc-bcc9-e804ccf06cea",
   "metadata": {},
   "outputs": [
    {
     "name": "stdout",
     "output_type": "stream",
     "text": [
      "The youngest child is Linus\n"
     ]
    }
   ],
   "source": [
    "def my_function(child3, child2, child1):\n",
    "  print(\"The youngest child is \" + child3)\n",
    "\n",
    "my_function(child1 = \"Emil\", child2 = \"Tobias\", child3 = \"Linus\")"
   ]
  },
  {
   "cell_type": "markdown",
   "id": "d897de75-ba43-4cb1-998b-a284be97d050",
   "metadata": {},
   "source": [
    "## 7.) Default Parameter Value\n",
    "The following example shows how to use a default parameter value.\n",
    "\n",
    "If we call the function without argument, it uses the default value:"
   ]
  },
  {
   "cell_type": "code",
   "execution_count": 8,
   "id": "803b60c7-21e2-41c9-b2b9-bbbe2d71e8d9",
   "metadata": {},
   "outputs": [
    {
     "name": "stdout",
     "output_type": "stream",
     "text": [
      "My name is Tim\n",
      "My name is Andy\n",
      "My name is Brian\n"
     ]
    }
   ],
   "source": [
    "def my_function(name = \"Brian\"):\n",
    "  print(\"My name is \" + name)\n",
    "\n",
    "my_function(\"Tim\")\n",
    "my_function(\"Andy\")\n",
    "my_function()"
   ]
  },
  {
   "cell_type": "markdown",
   "id": "f851be9e-2ec0-4bdc-a715-c2f0a0aa1149",
   "metadata": {},
   "source": [
    "## 8.) Passing a List as an Argument\n",
    "You can send any data types of argument to a function (string, number, list, dictionary etc.), and it will be treated as the same data type inside the function.\n",
    "\n",
    "E.g. if you send a List as an argument, it will still be a List when it reaches the function:"
   ]
  },
  {
   "cell_type": "code",
   "execution_count": 9,
   "id": "5c42d8b8-943a-44d0-89e9-0e6317169cb6",
   "metadata": {},
   "outputs": [
    {
     "name": "stdout",
     "output_type": "stream",
     "text": [
      "apple\n",
      "banana\n",
      "cherry\n"
     ]
    }
   ],
   "source": [
    "def my_function(food):\n",
    "  for x in food:\n",
    "    print(x)\n",
    "\n",
    "fruits = [\"apple\", \"banana\", \"cherry\"]\n",
    "\n",
    "my_function(fruits)"
   ]
  },
  {
   "cell_type": "markdown",
   "id": "91d8f2f4-cded-46dd-bf6e-0b9a879563be",
   "metadata": {},
   "source": [
    "## 9.) Return Values\n",
    "To let a function return a value, use the \"return\" statement. This will also exit a function and go back to the place from where it was called."
   ]
  },
  {
   "cell_type": "code",
   "execution_count": 11,
   "id": "7d49635b-ce31-4df7-af4d-ca929c6e63bc",
   "metadata": {},
   "outputs": [
    {
     "name": "stdout",
     "output_type": "stream",
     "text": [
      "9\n",
      "15\n"
     ]
    }
   ],
   "source": [
    "def multiply(x):\n",
    "  return 3 * x\n",
    "\n",
    "print(multiply(3))\n",
    "print(multiply(5))"
   ]
  },
  {
   "cell_type": "markdown",
   "id": "8c43c39f-a30f-400e-92a3-6d77aa30d396",
   "metadata": {},
   "source": [
    "If the return statement itself is not present inside a function, then the function will return the \"None\" object.\n",
    "\n",
    "## 10.) The \"pass\" Statement\n",
    "Function definitions cannot be empty, but if you for some reason have a function definition with no content, put in the pass statement to avoid getting an error."
   ]
  },
  {
   "cell_type": "code",
   "execution_count": 12,
   "id": "1b916f94-5f9b-4440-b849-14d024789a52",
   "metadata": {},
   "outputs": [
    {
     "name": "stdout",
     "output_type": "stream",
     "text": [
      "None\n"
     ]
    }
   ],
   "source": [
    "def myfunction():\n",
    "  pass\n",
    "print(myfunction())"
   ]
  }
 ],
 "metadata": {
  "kernelspec": {
   "display_name": "Python 3",
   "language": "python",
   "name": "python3"
  },
  "language_info": {
   "codemirror_mode": {
    "name": "ipython",
    "version": 3
   },
   "file_extension": ".py",
   "mimetype": "text/x-python",
   "name": "python",
   "nbconvert_exporter": "python",
   "pygments_lexer": "ipython3",
   "version": "3.7.9"
  }
 },
 "nbformat": 4,
 "nbformat_minor": 5
}
