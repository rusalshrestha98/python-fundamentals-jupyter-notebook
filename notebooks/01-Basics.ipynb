{
 "cells": [
  {
   "cell_type": "markdown",
   "id": "52fc5cb0-8138-4238-b1b4-66e5d89f3043",
   "metadata": {},
   "source": [
    "# Basics\n",
    "\n",
    "## 1.) Intro\n",
    "\n",
    "#### What is Python?\n",
    "\n",
    "* Python is a general-purpose coding language—which means that, unlike HTML, CSS, and JavaScript, it can be used for other types of programming and software development besides web development.\n",
    "\n",
    "#### What is Python used for?\n",
    "\n",
    "* Web-Development\n",
    "* Software Development\n",
    "* Mathematics\n",
    "* Machine Learning\n",
    "* Data Science\n",
    "* Automation\n",
    "\n",
    "#### Why Python?\n",
    "\n",
    "* Works on different platforms (Windows, Mac, Linux, Raspberry Pi, etc).\n",
    "* Simple syntax similar to the English language.\n",
    "* Syntax that allows developers to write programs with fewer lines than some other programming languages.\n",
    "* Large, mature, and active supportive community\n",
    "* Hundreds of libraries and frameworks\n",
    "* More efficient, reliable, and faster than most modern languages\n",
    "\n",
    "#### Good to Know\n",
    "\n",
    "* The most recent version of Python is Python 3. However, Python 2 is still quite popular.\n",
    "* You can run Python in you command line, but it probably easiest to run it using a text editor or IDE (Integrated Development Environment) such as Visual Studio Code, PyCharm, etc.\n",
    "\n",
    "## 2.) Installation\n",
    "\n",
    "Many PCs and Macs will already come with python installed. However, if your machine does not have it available, you can go to https://python.org/downloads/ and follow the instructions for your operating system to get it downloaded on your machine.\n",
    "\n",
    "## 3.) Pip\n",
    "\n",
    "Pip is the most popular package manager for python. To check if you have pip installed, run the following command.\n",
    "\n",
    "* Windows:\n",
    "```python\n",
    "py -m pip --version\n",
    "```\n",
    "* Mac:\n",
    "```python\n",
    "py -m pip --version\n",
    "```\n",
    "\n",
    "If not installed, you can follow the installation documentation for pip at this link: https://pip.pypa.io/en/stable/installing/. \n"
   ]
  },
  {
   "cell_type": "markdown",
   "id": "3724f6a1-7815-4581-90fd-23bba10e2d50",
   "metadata": {},
   "source": [
    "## 4.) Printing 'Hello World'\n",
    "\n",
    "In this program below, you learn how to create your first python program using the build-in print() function to print the string \"Hello World\".\n"
   ]
  },
  {
   "cell_type": "code",
   "execution_count": 1,
   "id": "f7680c76-b076-4279-8289-13decfe4a270",
   "metadata": {},
   "outputs": [
    {
     "name": "stdout",
     "output_type": "stream",
     "text": [
      "Hello World!\n"
     ]
    }
   ],
   "source": [
    "print(\"Hello World!\")"
   ]
  },
  {
   "cell_type": "markdown",
   "id": "6b57dc04-9f35-47a0-9856-131859c9029a",
   "metadata": {},
   "source": [
    "## 5.) Indentation\n",
    "#### Indentation refers to the spaces at the beginning of a code line.\n",
    "\n",
    "#### Where in other programming languages the indentation in code is for readability only, the indentation in Python is very important.\n",
    "\n",
    "#### Python uses indentation to indicate a block of code."
   ]
  },
  {
   "cell_type": "code",
   "execution_count": 2,
   "id": "21e30aca-9d8d-4b6d-8ec4-73211f01aa17",
   "metadata": {},
   "outputs": [
    {
     "name": "stdout",
     "output_type": "stream",
     "text": [
      "Five is greater than two!\n"
     ]
    }
   ],
   "source": [
    "if 5 > 2:\n",
    "  print(\"Five is greater than two!\")"
   ]
  },
  {
   "cell_type": "markdown",
   "id": "8630111d-aaa5-4cb2-a1b3-d3220b4f4f66",
   "metadata": {},
   "source": [
    "## 6.) Comments\n",
    "\n",
    "Python has commenting capability for the purpose of in-code documentation.\n",
    "\n",
    "Comments start with a #, and Python will render the rest of the line as a comment:"
   ]
  },
  {
   "cell_type": "code",
   "execution_count": 3,
   "id": "f7b95433-cf48-4649-990e-f6cdbc6a2b6c",
   "metadata": {},
   "outputs": [
    {
     "name": "stdout",
     "output_type": "stream",
     "text": [
      "Hello, World!\n"
     ]
    }
   ],
   "source": [
    "#This is a comment.\n",
    "print(\"Hello, World!\")"
   ]
  },
  {
   "cell_type": "code",
   "execution_count": null,
   "id": "e1346c80-6327-4826-aa22-464df4418e74",
   "metadata": {},
   "outputs": [],
   "source": []
  }
 ],
 "metadata": {
  "kernelspec": {
   "display_name": "Python 3",
   "language": "python",
   "name": "python3"
  },
  "language_info": {
   "codemirror_mode": {
    "name": "ipython",
    "version": 3
   },
   "file_extension": ".py",
   "mimetype": "text/x-python",
   "name": "python",
   "nbconvert_exporter": "python",
   "pygments_lexer": "ipython3",
   "version": "3.7.9"
  }
 },
 "nbformat": 4,
 "nbformat_minor": 5
}
