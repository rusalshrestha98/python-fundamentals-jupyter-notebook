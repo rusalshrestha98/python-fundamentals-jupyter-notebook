{
 "cells": [
  {
   "cell_type": "markdown",
   "id": "7e817fda-169b-4e04-b9ab-acf6bea74e74",
   "metadata": {},
   "source": [
    "# Variables\n",
    "\n",
    "## 1.) Creating a Variable\n",
    "\n",
    "A variable is a reserved memory location for storing values. Python has no command for declaring a variable.  Instead, a variable is created the moment you first a  ssign a value to it.\n"
   ]
  },
  {
   "cell_type": "code",
   "execution_count": 1,
   "id": "37205cd5-0f21-42e6-8e17-2c320080fa03",
   "metadata": {
    "collapsed": true,
    "jupyter": {
     "outputs_hidden": true
    },
    "tags": []
   },
   "outputs": [
    {
     "name": "stdout",
     "output_type": "stream",
     "text": [
      "5\n",
      "John\n"
     ]
    }
   ],
   "source": [
    "x = 5\n",
    "y = \"John\"\n",
    "print(x)\n",
    "print(y)"
   ]
  },
  {
   "cell_type": "markdown",
   "id": "7a260520-1e7c-41cd-86a0-348589212a6d",
   "metadata": {},
   "source": [
    "Variables do not need to be declared with any particular type, and can even change type after they have been set.\n"
   ]
  },
  {
   "cell_type": "code",
   "execution_count": 2,
   "id": "85feff8b-7f68-47a2-8ee1-fa38b5a4c9c2",
   "metadata": {
    "collapsed": true,
    "jupyter": {
     "outputs_hidden": true
    },
    "tags": []
   },
   "outputs": [
    {
     "name": "stdout",
     "output_type": "stream",
     "text": [
      "Sally\n"
     ]
    }
   ],
   "source": [
    "x = 4\n",
    "x = \"Sally\"  \n",
    "print(x)"
   ]
  },
  {
   "cell_type": "markdown",
   "id": "a912867c-f6fc-47bd-a40e-b8deccc37a4d",
   "metadata": {},
   "source": [
    "## 2.) Casting\n",
    "\n",
    "Type Casting is the method to convert the variable data type into a certain data type in order to the operation required to be performed by users.\n",
    "\n",
    "There can be two types of Type Casting in Python:\n",
    "\n",
    "* Implicit Type Casting: automatically performed by the Python interpreter.\n"
   ]
  },
  {
   "cell_type": "code",
   "execution_count": null,
   "id": "9d95486f-369b-4086-ac3a-8698da022b3f",
   "metadata": {},
   "outputs": [],
   "source": [
    "a = 7\n",
    "print(type(a)) "
   ]
  },
  {
   "cell_type": "markdown",
   "id": "06d7868c-11f0-4c48-81f2-b0cbb2f56f11",
   "metadata": {},
   "source": [
    "* Explicit Type Casting: also called Type Casting, the data types of objects are converted using predefined functions by the user.\n"
   ]
  },
  {
   "cell_type": "code",
   "execution_count": 4,
   "id": "0b62f395-357c-4482-aa5f-4c62d527aad5",
   "metadata": {},
   "outputs": [],
   "source": [
    "x = str(3)    # x will be '3'\n",
    "y = int(3)    # y will be 3\n",
    "z = float(3)  # z will be 3.0"
   ]
  },
  {
   "cell_type": "markdown",
   "id": "be13a241-dae0-4f25-b7f6-13361ad44e45",
   "metadata": {},
   "source": [
    "## 3.) Getting the Data Type\n",
    "\n",
    "You can get the data type of a variable with the type() function.\n"
   ]
  },
  {
   "cell_type": "code",
   "execution_count": 5,
   "id": "b26cb476-8fcb-451a-9bf4-c2224ea80982",
   "metadata": {},
   "outputs": [
    {
     "name": "stdout",
     "output_type": "stream",
     "text": [
      "<class 'int'>\n",
      "<class 'str'>\n"
     ]
    }
   ],
   "source": [
    "x = 5\n",
    "y = \"John\"\n",
    "print(type(x))\n",
    "print(type(y))"
   ]
  },
  {
   "cell_type": "markdown",
   "id": "a1ccb07c-150c-4335-aa20-8e85401d2673",
   "metadata": {},
   "source": [
    "## 4.) Quotes\n",
    "\n",
    "String variables can be declared either by using single or double quotes:\n"
   ]
  },
  {
   "cell_type": "code",
   "execution_count": 6,
   "id": "be63a487-f66c-416e-9fb3-808a18e5d818",
   "metadata": {},
   "outputs": [],
   "source": [
    "x = \"Hello World!\"\n",
    "# is the same as\n",
    "x = 'Hello World!'"
   ]
  },
  {
   "cell_type": "markdown",
   "id": "2781d06b-4b24-4ae7-8c00-994e67059f36",
   "metadata": {},
   "source": [
    "## 5.) Case Sensitive\n",
    "\n",
    "Variable names are case-sensitive.\n"
   ]
  },
  {
   "cell_type": "code",
   "execution_count": 8,
   "id": "1b623762-433f-41d7-ad9c-336681435902",
   "metadata": {},
   "outputs": [],
   "source": [
    "a = 4\n",
    "A = \"Sally\"\n",
    "#A will not overwrite a"
   ]
  },
  {
   "cell_type": "markdown",
   "id": "5b5a000c-64ff-4744-a408-e1dca3114617",
   "metadata": {},
   "source": [
    "## 6.) Variable Names\n",
    "\n",
    "A variable can have a short name (like x and y) or a more descriptive name (age, carname, total_volume). Rules for Python variables:\n",
    "* A variable name must start with a letter or the underscore character\n",
    "* A variable name cannot start with a number\n",
    "* A variable name can only contain alpha-numeric characters and underscores (A-z, 0-9, and _ )\n",
    "* Variable names are case-sensitive (age, Age and AGE are three different variables)\n",
    "\n",
    "Examples of variable names that are allowed:"
   ]
  },
  {
   "cell_type": "code",
   "execution_count": 9,
   "id": "cae2c03e-488b-4695-b90c-17767643d00c",
   "metadata": {},
   "outputs": [],
   "source": [
    "myvar = \"John\"\n",
    "my_var = \"John\"\n",
    "_my_var = \"John\"\n",
    "myVar = \"John\"\n",
    "MYVAR = \"John\"\n",
    "myvar2 = \"John\""
   ]
  },
  {
   "cell_type": "markdown",
   "id": "1b8261ca-73f2-46e2-a620-33eca35d8569",
   "metadata": {},
   "source": [
    "**NOTE:** It is best practice that variable names are `snake_case`. Additionally if a variable is constant (e.g. it's value will not change) its name should be in caps. Python itself does not have constants, for all variables are mutable, therefore, the need of this naming convention."
   ]
  },
  {
   "cell_type": "code",
   "execution_count": null,
   "id": "9aa42631-cede-4cb3-ac4d-cde1eb181bf7",
   "metadata": {},
   "outputs": [],
   "source": [
    "MY_CONSTANT = 10 # A constant "
   ]
  },
  {
   "cell_type": "markdown",
   "id": "e3fd5774-db39-4549-b88c-1efa386927b9",
   "metadata": {},
   "source": [
    "Examples of variable names that are not allowed:\n",
    "\n",
    "```python\n",
    "2myvar = \"John\"\n",
    "my-var = \"John\"\n",
    "my var = \"John\"\n",
    "```"
   ]
  },
  {
   "cell_type": "markdown",
   "id": "aafd1557-d05a-483d-a204-c915e0115326",
   "metadata": {},
   "source": [
    "## 7.) Assigning Multiple Values\n",
    "\n",
    "Python allows you to assign muliple values to mulple variables in the same line. Follow the example below: "
   ]
  },
  {
   "cell_type": "code",
   "execution_count": 10,
   "id": "5be01c6c-c65d-44d2-bf07-828cb341620e",
   "metadata": {},
   "outputs": [
    {
     "name": "stdout",
     "output_type": "stream",
     "text": [
      "Orange\n",
      "Banana\n",
      "Cherry\n"
     ]
    }
   ],
   "source": [
    "x, y, z = \"Orange\", \"Banana\", \"Cherry\"\n",
    "print(x)\n",
    "print(y)\n",
    "print(z)"
   ]
  },
  {
   "cell_type": "markdown",
   "id": "65dbc30e-b54c-440c-b683-01e096d34f28",
   "metadata": {},
   "source": [
    "## 8.) One Value to Multiple Variables\n",
    "\n",
    "Python allows you to assign teh same value to multiple variables in the same line. Follow the example below: \n"
   ]
  },
  {
   "cell_type": "code",
   "execution_count": 11,
   "id": "5a9788be-8162-4733-8663-43115906e6d3",
   "metadata": {},
   "outputs": [
    {
     "name": "stdout",
     "output_type": "stream",
     "text": [
      "Orange\n",
      "Orange\n",
      "Orange\n"
     ]
    }
   ],
   "source": [
    "x = y = z = \"Orange\"\n",
    "print(x)\n",
    "print(y)\n",
    "print(z)"
   ]
  },
  {
   "cell_type": "markdown",
   "id": "1b2990db-d41a-4383-be78-fceee20fc50b",
   "metadata": {},
   "source": [
    "## 9.) Unpack a Collection\n",
    "\n",
    "If you have a collection of values in a list, tuple etc. Python allows you extract the values into variables. This is called **unpacking**.\n"
   ]
  },
  {
   "cell_type": "code",
   "execution_count": 12,
   "id": "98c5a36a-cc10-42f7-a4fb-960a40e9a04c",
   "metadata": {},
   "outputs": [
    {
     "name": "stdout",
     "output_type": "stream",
     "text": [
      "apple\n",
      "banana\n",
      "cherry\n"
     ]
    }
   ],
   "source": [
    "fruits = [\"apple\", \"banana\", \"cherry\"]\n",
    "x, y, z = fruits\n",
    "print(x)\n",
    "print(y)\n",
    "print(z)"
   ]
  },
  {
   "cell_type": "markdown",
   "id": "40011f38-f96d-4b1c-a419-d9ab5580fe5d",
   "metadata": {},
   "source": [
    "## 10.) Scope of Variables\n",
    "\n",
    "Scope of a variable is the portion of a program where the variable is recognized. \n",
    "\n",
    "* **Local Scope:** A variable created inside a function belongs to the local scope of that function, and can only be used inside that function. In the example below, the variable x is not available outside the function, but it is available for any function inside the function.\n"
   ]
  },
  {
   "cell_type": "code",
   "execution_count": 13,
   "id": "bc06f58f-b19b-4312-b537-a048f53a9101",
   "metadata": {},
   "outputs": [
    {
     "name": "stdout",
     "output_type": "stream",
     "text": [
      "300\n"
     ]
    }
   ],
   "source": [
    "def myfunc():\n",
    "  x = 300\n",
    "  print(x)\n",
    "\n",
    "myfunc()"
   ]
  },
  {
   "cell_type": "code",
   "execution_count": 16,
   "id": "3cded51f-a591-4603-98c5-a567ad9ff0c9",
   "metadata": {},
   "outputs": [
    {
     "name": "stdout",
     "output_type": "stream",
     "text": [
      "300\n"
     ]
    }
   ],
   "source": [
    "def myfunc():\n",
    "  x = 300\n",
    "  def myinnerfunc():\n",
    "    print(x)\n",
    "  myinnerfunc()\n",
    "\n",
    "myfunc()"
   ]
  },
  {
   "cell_type": "markdown",
   "id": "48117b8c-b8a7-4731-b2d0-b38d4ccb4cb3",
   "metadata": {},
   "source": [
    "* **Global Scope:** Variables that are created outside of a function are known as global variables. Global variables can be used by everyone, both inside of functions and outside.\n"
   ]
  },
  {
   "cell_type": "code",
   "execution_count": 17,
   "id": "87a6874c-8c6f-404a-aa92-e964955ddaad",
   "metadata": {},
   "outputs": [
    {
     "name": "stdout",
     "output_type": "stream",
     "text": [
      "Python is awesome\n"
     ]
    }
   ],
   "source": [
    "x = \"awesome\"\n",
    "\n",
    "def myfunc():\n",
    "  print(\"Python is \" + x)\n",
    "\n",
    "myfunc()"
   ]
  }
 ],
 "metadata": {
  "kernelspec": {
   "display_name": "Python 3",
   "language": "python",
   "name": "python3"
  },
  "language_info": {
   "codemirror_mode": {
    "name": "ipython",
    "version": 3
   },
   "file_extension": ".py",
   "mimetype": "text/x-python",
   "name": "python",
   "nbconvert_exporter": "python",
   "pygments_lexer": "ipython3",
   "version": "3.7.9"
  }
 },
 "nbformat": 4,
 "nbformat_minor": 5
}
